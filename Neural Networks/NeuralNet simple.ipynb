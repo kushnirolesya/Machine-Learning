{
 "cells": [
  {
   "cell_type": "markdown",
   "metadata": {},
   "source": [
    "В цій практичній роботі ми спробуємо реалізувати нейронну мережу з двох шарів (прихований і вихідний). Запропонований підхід стане заготовкою для реалізації наступних оптимізацій: MBGD, ADAM та регуляризації. \n",
    "\n",
    "Сьогодні ж вам пропонується додати до цього класу підтримку довільної кількості шарів та нейронів в них (наприклад, передавати їх параметром в конструктор, як це робиться в MLPClassifier за допомогою hidden_layer_sizes). Також потрібно передбачити можливість ранньої зупинки ітераційного процесу, якщо значення штрафної функції не покращуватиметься протягом певної кількості ітерацій. Наприклад, якщо протягом $k$ ітерацій штрафна функція за модулем не стане меншою, ніж на поточному кроці."
   ]
  },
  {
   "cell_type": "code",
   "execution_count": 38,
   "metadata": {},
   "outputs": [],
   "source": [
    "import numpy as np\n",
    "import pandas as pd\n",
    "from sklearn.model_selection import train_test_split\n",
    "from mpl_toolkits.mplot3d import Axes3D\n",
    "import matplotlib.pyplot as plt\n",
    "\n",
    "from matplotlib.colors import ListedColormap\n",
    "cm_bright = ListedColormap(['#FF0000', '#0000FF'])\n",
    "%matplotlib inline\n",
    "from sklearn.metrics import accuracy_score\n",
    "\n",
    "import sklearn.linear_model"
   ]
  },
  {
   "cell_type": "code",
   "execution_count": 39,
   "metadata": {},
   "outputs": [],
   "source": [
    "def plot_surface(cls, x_1, x_2, ax=None, threshold=0.5, contourf=False):\n",
    "    xx1, xx2 = np.meshgrid(np.linspace(x_1.min(), x_1.max(), 100), \n",
    "                           np.linspace(x_2.min(), x_2.max(), 100))\n",
    "\n",
    "    X_pred = np.c_[xx1.ravel(), xx2.ravel()]\n",
    "    pred = cls.predict_proba(X_pred)[:, 0]\n",
    "    Z = pred.reshape((100, 100))\n",
    "    if ax is None:\n",
    "        ax = plt.gca()\n",
    "    ax.contour(xx1, xx2, Z, levels=[threshold], colors='black')\n",
    "    ax.set_xlim((x_1.min(), x_1.max()))\n",
    "    ax.set_ylim((x_2.min(), x_2.max()))"
   ]
  },
  {
   "cell_type": "code",
   "execution_count": 40,
   "metadata": {},
   "outputs": [],
   "source": [
    "def plot_data(A, b, test = False):\n",
    "    positive_indices = np.where(b == 1)[0]\n",
    "    negative_indices = np.where(b == 0)[0]\n",
    "    \n",
    "    plt.scatter(A[positive_indices, 0], A[positive_indices, 1], marker='*', c= 'blue' if test else 'red')\n",
    "    plt.scatter(A[negative_indices, 0], A[negative_indices, 1], marker='+', c= 'green' if test else 'black')"
   ]
  },
  {
   "cell_type": "code",
   "execution_count": 41,
   "metadata": {},
   "outputs": [],
   "source": [
    "class NeuralNet:\n",
    "    \"\"\"\n",
    "    NN for binary classification\n",
    "    Attributes:\n",
    "    ...\n",
    "    \"\"\"\n",
    "    # hidden_layer_sizes=(100, 50,)\n",
    "    def __init__(self, hidden_layer_sizes, normalize = True, learning_rate = 0.01, num_iter = 30000):\n",
    "        self.learning_rate = learning_rate\n",
    "        self.num_iter = num_iter\n",
    "        self.normalize = normalize\n",
    "        self.hidden_layer_sizes = hidden_layer_sizes\n",
    "    \n",
    "    def __normalize(self, X, mean = None, std = None):\n",
    "        \"\"\"\n",
    "        Зверніть увагу, що нормалізація вхідних даних є дуже важливою для швидкодії нейронних мереж.\n",
    "        \"\"\"\n",
    "        n = X.shape[0]\n",
    "        m = mean\n",
    "        if m is None:\n",
    "            m = np.mean(X, axis=1).reshape((n, 1))\n",
    "        s = std\n",
    "        if s is None:\n",
    "            s = np.std(X, axis=1).reshape((n, 1))\n",
    "        X_new = (X - m) / s**2\n",
    "        return X_new, m, s\n",
    "\n",
    "    def __sigmoid(self, Z):\n",
    "        \"\"\"\n",
    "        В наступних практичних потрібно буде додати підтримку й інших активаційних функцій - це один з гіперпараметрів. \n",
    "        Їх можна вибирати для всіх шарів одночасно або мати різні активаційні функції на кожному з них.\n",
    "        \"\"\"\n",
    "        return 1 / (1 + np.exp(-Z))\n",
    "    \n",
    "    def __initialize_parameters(self, n_x):\n",
    "        self.parameters = {}\n",
    "        n = len(n_x)\n",
    "        \n",
    "        for i in range(1, len(n_x)):\n",
    "            if (i == n):\n",
    "                continue\n",
    "            W = np.random.randn(n_x[i], n_x[i - 1]) * 0.01\n",
    "            b = np.zeros((n_x[i], 1))\n",
    "            self.parameters.update({f\"W{i}\": W, f\"b{i}\": b})\n",
    "\n",
    "        W = np.random.randn(1, n_x[n-1]) * 0.01\n",
    "        b = 0\n",
    "        \n",
    "        self.parameters.update({f\"W{n}\":W, f\"b{n}\":b})\n",
    "                    \n",
    "    def __forward_propagation(self, X):\n",
    "        num_layers = len(self.hidden_layer_sizes)\n",
    "        cache = self.parameters.copy()\n",
    "        \n",
    "        A = X\n",
    "        for i in range(1, num_layers + 2):\n",
    "            W = self.parameters[f\"W{i}\"]\n",
    "            b = self.parameters[f\"b{i}\"]\n",
    "            Z = np.dot(W, A) + b\n",
    "            A = self.__sigmoid(Z)\n",
    "            cache.update({f\"Z{i}\": Z})\n",
    "            cache.update({f\"A{i}\": A})\n",
    "        return A, cache\n",
    "    \n",
    "    def compute_cost(self, A, Y):\n",
    "        m = Y.shape[1]\n",
    "        res = Y * np.log(A) + (1 - Y) * np.log(1 - A)\n",
    "        J = -(1 / m) * np.sum(res)\n",
    "        return J\n",
    "        \n",
    "    def __backward_propagation(self, X, Y, cache):\n",
    "        m = X.shape[1]\n",
    "        n = X.shape[0]\n",
    "        num_layers = len(self.hidden_layer_sizes)\n",
    "        \n",
    "        grads = {}\n",
    "        \n",
    "        for i in range(num_layers+1, 0, -1):\n",
    "            W = cache[f\"W{i}\"]\n",
    "            b = cache[f\"b{i}\"]\n",
    "            Z = cache[f\"Z{i}\"]\n",
    "\n",
    "            if i == num_layers + 1:\n",
    "                A = cache[f\"A{i}\"]\n",
    "                A_next = cache[f\"A{i - 1}\"]\n",
    "                \n",
    "                dZ = A - Y\n",
    "                dW = 1. / m * np.dot(dZ, A_next.T)\n",
    "                db = 1. / m * np.sum(dZ, axis = 1, keepdims = True)\n",
    "            elif (i == 1):\n",
    "                W_prev = cache[f\"W{i + 1}\"]\n",
    "                A = cache[f\"A{i}\"]\n",
    "                dA = np.dot(W_prev.T, dZ)\n",
    "\n",
    "                dZ = np.multiply(dA, np.multiply(A, 1 - A))\n",
    "                dW = 1. / m * np.dot(dZ, X.T)\n",
    "                db = 1. / m * np.sum(dZ, axis = 1, keepdims = True)\n",
    "            else:\n",
    "                W_prev = cache[f\"W{i + 1}\"]\n",
    "                A = cache[f\"A{i}\"]\n",
    "                A_next = cache[f\"A{i - 1}\"]\n",
    "\n",
    "                dA = np.dot(W_prev.T, dZ)\n",
    "                dZ = np.multiply(dA, np.multiply(A, 1 - A))\n",
    "                dW = 1. / m * np.dot(dZ, A_next.T)\n",
    "                db = 1. / m * np.sum(dZ, axis = 1, keepdims = True)\n",
    "            grads.update({f\"dZ{i}\":dZ, f\"dW{i}\":dW, f\"db{i}\":db})\n",
    "        return grads\n",
    "    \n",
    "    def __update_parameters(self, grads):\n",
    "        num_layers = len(self.hidden_layer_sizes)\n",
    "        \n",
    "        for i in range(1, num_layers + 2):\n",
    "            W = self.parameters[f\"W{i}\"]\n",
    "            b = self.parameters[f\"b{i}\"]\n",
    "            \n",
    "            dW = grads[f\"dW{i}\"]\n",
    "            db = grads[f\"db{i}\"]\n",
    "            \n",
    "            self.parameters[f\"W{i}\"] = W - self.learning_rate * dW\n",
    "            self.parameters[f\"b{i}\"] = b - self.learning_rate * db\n",
    "            \n",
    "    def fit(self, X_vert, Y_vert, epsilon=1e-08, print_cost = True):\n",
    "        \n",
    "        X, Y = X_vert.T, Y_vert.T\n",
    "        \n",
    "        if self.normalize:\n",
    "            X, self.__mean, self.__std = self.__normalize(X)\n",
    "        \n",
    "        costs = []\n",
    "        \n",
    "        m = X.shape[1]\n",
    "        n_x = (X.shape[0],) + self.hidden_layer_sizes\n",
    "        \n",
    "        self.__initialize_parameters(n_x)\n",
    "        \n",
    "        \n",
    "        for i in range(self.num_iter):\n",
    "            A, cache = self.__forward_propagation(X)\n",
    "\n",
    "            cost = self.compute_cost(A, Y)\n",
    "\n",
    "            grads = self.__backward_propagation(X, Y, cache)\n",
    "\n",
    "            self.__update_parameters(grads)\n",
    "\n",
    "            if print_cost and i % 1000 == 0:\n",
    "                print(\"{}-th iteration: {}\".format(i, cost))\n",
    "            costs.append(cost)\n",
    "            \n",
    "            # break condition\n",
    "            if i > 1 and abs(costs[-2] - costs[-1]) < epsilon:\n",
    "                break\n",
    "                \n",
    "        if print_cost:\n",
    "            plt.plot(costs)\n",
    "            plt.ylabel(\"Cost\")\n",
    "            plt.xlabel(\"Iteration, *1000\")\n",
    "            plt.show()\n",
    "\n",
    "            \n",
    "    def predict_proba(self, X_vert):\n",
    "        X = X_vert.T\n",
    "        if self.normalize:\n",
    "            X, _, _ = self.__normalize(X, self.__mean, self.__std)\n",
    "        \n",
    "        probs = self.__forward_propagation(X)[0]\n",
    "        print(probs)\n",
    "        return np.column_stack((probs.T, 1 - probs.T))\n",
    "    \n",
    "    def predict(self, X_vert):\n",
    "        positive_probs = self.predict_proba(X_vert)[:, 0]\n",
    "        return (positive_probs >= 0.5).astype(int)"
   ]
  },
  {
   "cell_type": "markdown",
   "metadata": {},
   "source": [
    "Спочатку спробуйте цей клас на одній задачі, а потім на іншій."
   ]
  },
  {
   "cell_type": "code",
   "execution_count": 42,
   "metadata": {},
   "outputs": [],
   "source": [
    "#data_columns = [\"exam1\", \"exam2\"]\n",
    "#target_column = \"submitted\"\n",
    "#df = pd.read_csv(\"sats.csv\")\n",
    "#X, Y = df[data_columns].values, df[target_column].reshape((df.shape[0], 1))\n",
    "#print('Training set: X={}, y={}'.format(X.shape, Y.shape))"
   ]
  },
  {
   "cell_type": "code",
   "execution_count": 43,
   "metadata": {},
   "outputs": [
    {
     "name": "stdout",
     "output_type": "stream",
     "text": [
      "Training set: X=(118, 2), y=(118,)\n"
     ]
    }
   ],
   "source": [
    "data_columns = [\"test1\", \"test2\"]\n",
    "target_column = \"passed\"\n",
    "df = pd.read_csv(\"tests.csv\")\n",
    "X, Y = df[data_columns].values, df[target_column]\n",
    "print('Training set: X={}, y={}'.format(X.shape, Y.shape))"
   ]
  },
  {
   "cell_type": "code",
   "execution_count": 44,
   "metadata": {},
   "outputs": [
    {
     "data": {
      "image/png": "[encoded data removed]",
      "text/plain": [
       "<Figure size 432x288 with 1 Axes>"
      ]
     },
     "metadata": {
      "needs_background": "light"
     },
     "output_type": "display_data"
    }
   ],
   "source": [
    "plot_data(X, Y)"
   ]
  },
  {
   "cell_type": "code",
   "execution_count": 45,
   "metadata": {},
   "outputs": [
    {
     "name": "stdout",
     "output_type": "stream",
     "text": [
      "Training set: X=(94, 2), y=(94,)\n",
      "Test set: X=(24, 2), y=(24,)\n"
     ]
    }
   ],
   "source": [
    "X_train, X_test, y_train, y_test = train_test_split(X, Y, test_size = 0.2, shuffle = True)\n",
    "\n",
    "print('Training set: X={}, y={}'.format(X_train.shape, y_train.shape))\n",
    "print('Test set: X={}, y={}'.format(X_test.shape, y_test.shape))"
   ]
  },
  {
   "cell_type": "code",
   "execution_count": 46,
   "metadata": {},
   "outputs": [
    {
     "name": "stdout",
     "output_type": "stream",
     "text": [
      "0-th iteration: 0.6935436489119651\n",
      "1000-th iteration: 0.6699978180092107\n",
      "2000-th iteration: 0.4528677581253461\n",
      "3000-th iteration: 0.36146876203110867\n"
     ]
    },
    {
     "data": {
      "image/png": "[encoded data removed]",
      "text/plain": [
       "<Figure size 432x288 with 1 Axes>"
      ]
     },
     "metadata": {
      "needs_background": "light"
     },
     "output_type": "display_data"
    }
   ],
   "source": [
    "cls = NeuralNet((20, ), normalize = True, learning_rate = 0.5, num_iter = 4000)\n",
    "cls.fit(X_train, y_train.values.reshape((X_train.shape[0], 1)), epsilon=1e-8)"
   ]
  },
  {
   "cell_type": "code",
   "execution_count": 47,
   "metadata": {},
   "outputs": [
    {
     "name": "stdout",
     "output_type": "stream",
     "text": [
      "{'W1': array([[-0.91945293, -0.52282135],\n",
      "       [-1.0027716 , -0.8298758 ],\n",
      "       [-0.45215898,  2.44115994],\n",
      "       [ 0.24059692, -0.37314354],\n",
      "       [ 0.25572725, -0.46232119],\n",
      "       [ 0.30841469, -0.53793979],\n",
      "       [-3.35532366, -0.82191539],\n",
      "       [-0.87066062,  0.95012035],\n",
      "       [ 0.41618475, -0.82536903],\n",
      "       [ 0.34765062, -0.63275782],\n",
      "       [-1.11768363, -0.65907411],\n",
      "       [ 0.22554436, -0.17390032],\n",
      "       [-1.23751123,  0.99155918],\n",
      "       [ 0.37796153,  2.16010693],\n",
      "       [ 0.38409441, -1.0126261 ],\n",
      "       [-2.23273568, -1.92497708],\n",
      "       [-0.93977091, -0.54375961],\n",
      "       [ 0.26769761, -0.46916139],\n",
      "       [ 0.20019238, -0.25909163],\n",
      "       [ 0.4775868 , -1.09758206]]), 'b1': array([[-1.93066433],\n",
      "       [-2.79399426],\n",
      "       [-2.87493689],\n",
      "       [-0.05504637],\n",
      "       [-0.17628886],\n",
      "       [-0.14038726],\n",
      "       [-2.51049512],\n",
      "       [-3.58230642],\n",
      "       [-0.49814013],\n",
      "       [-0.33179455],\n",
      "       [-2.67683989],\n",
      "       [ 0.0855653 ],\n",
      "       [ 3.10976611],\n",
      "       [-4.57793278],\n",
      "       [-0.96982322],\n",
      "       [ 4.41456729],\n",
      "       [-2.04793896],\n",
      "       [-0.17612781],\n",
      "       [-0.05996733],\n",
      "       [-0.5622492 ]]), 'W2': array([[-1.98908085, -3.0552507 , -3.28398806, -0.3484605 , -0.48756248,\n",
      "        -0.56292459, -3.77743236, -3.35934498, -0.96843158, -0.71818896,\n",
      "        -3.22890195, -0.09967121,  7.37347658, -6.40266519, -1.40609681,\n",
      "         5.83911302, -2.14367178, -0.49289311, -0.23832583, -1.24104332]]), 'b2': array([[-0.08338068]])}\n"
     ]
    }
   ],
   "source": [
    "print(cls.parameters)"
   ]
  },
  {
   "cell_type": "code",
   "execution_count": 48,
   "metadata": {},
   "outputs": [
    {
     "name": "stdout",
     "output_type": "stream",
     "text": [
      "[[0.06183286 0.19822767 0.31686864 0.98401256 0.94964441 0.17023949\n",
      "  0.06386704 0.26843984 0.82053186 0.54507405 0.68647447 0.02801745\n",
      "  0.01681802 0.3814979  0.53121469 0.88258231 0.02953173 0.20238164\n",
      "  0.98716065 0.06215987 0.1645309  0.07159297 0.39708659 0.34087692]]\n"
     ]
    },
    {
     "data": {
      "text/plain": [
       "array([[0.06183286, 0.93816714],\n",
       "       [0.19822767, 0.80177233],\n",
       "       [0.31686864, 0.68313136],\n",
       "       [0.98401256, 0.01598744],\n",
       "       [0.94964441, 0.05035559],\n",
       "       [0.17023949, 0.82976051],\n",
       "       [0.06386704, 0.93613296],\n",
       "       [0.26843984, 0.73156016],\n",
       "       [0.82053186, 0.17946814],\n",
       "       [0.54507405, 0.45492595],\n",
       "       [0.68647447, 0.31352553],\n",
       "       [0.02801745, 0.97198255],\n",
       "       [0.01681802, 0.98318198],\n",
       "       [0.3814979 , 0.6185021 ],\n",
       "       [0.53121469, 0.46878531],\n",
       "       [0.88258231, 0.11741769],\n",
       "       [0.02953173, 0.97046827],\n",
       "       [0.20238164, 0.79761836],\n",
       "       [0.98716065, 0.01283935],\n",
       "       [0.06215987, 0.93784013],\n",
       "       [0.1645309 , 0.8354691 ],\n",
       "       [0.07159297, 0.92840703],\n",
       "       [0.39708659, 0.60291341],\n",
       "       [0.34087692, 0.65912308]])"
      ]
     },
     "execution_count": 48,
     "metadata": {},
     "output_type": "execute_result"
    }
   ],
   "source": [
    "Y_prob = cls.predict_proba(X_test)\n",
    "Y_prob"
   ]
  },
  {
   "cell_type": "code",
   "execution_count": 49,
   "metadata": {},
   "outputs": [
    {
     "name": "stdout",
     "output_type": "stream",
     "text": [
      "[[0.06183286 0.19822767 0.31686864 0.98401256 0.94964441 0.17023949\n",
      "  0.06386704 0.26843984 0.82053186 0.54507405 0.68647447 0.02801745\n",
      "  0.01681802 0.3814979  0.53121469 0.88258231 0.02953173 0.20238164\n",
      "  0.98716065 0.06215987 0.1645309  0.07159297 0.39708659 0.34087692]]\n"
     ]
    },
    {
     "data": {
      "text/plain": [
       "array([0, 0, 0, 1, 1, 0, 0, 0, 1, 1, 1, 0, 0, 0, 1, 1, 0, 0, 1, 0, 0, 0,\n",
       "       0, 0])"
      ]
     },
     "execution_count": 49,
     "metadata": {},
     "output_type": "execute_result"
    }
   ],
   "source": [
    "Y_hat = cls.predict(X_test)\n",
    "Y_hat"
   ]
  },
  {
   "cell_type": "code",
   "execution_count": 50,
   "metadata": {},
   "outputs": [
    {
     "data": {
      "text/plain": [
       "0.875"
      ]
     },
     "execution_count": 50,
     "metadata": {},
     "output_type": "execute_result"
    }
   ],
   "source": [
    "accuracy_score(y_test, Y_hat)"
   ]
  },
  {
   "cell_type": "code",
   "execution_count": 51,
   "metadata": {},
   "outputs": [
    {
     "name": "stdout",
     "output_type": "stream",
     "text": [
      "[[0.00323126 0.00316584 0.00310364 ... 0.01026577 0.00928038 0.00833161]]\n"
     ]
    },
    {
     "data": {
      "image/png": "[encoded data removed]",
      "text/plain": [
       "<Figure size 432x288 with 1 Axes>"
      ]
     },
     "metadata": {
      "needs_background": "light"
     },
     "output_type": "display_data"
    }
   ],
   "source": [
    "plot_data(X_train, y_train)\n",
    "plot_data(X_test, y_test, test=True)\n",
    "\n",
    "plot_surface(cls, X[:, 0], X[:, 1])"
   ]
  },
  {
   "cell_type": "markdown",
   "metadata": {},
   "source": [
    "Зверніть увагу на границю прийняття рішення. Модель старається побудувати складну криву, що може свідчити про її перетренування. Порівняйте отримані результати з класом з sklearn. Спробуйте додати нові шари для нашого класу та порівняти результати тоді. Поекспериментуйте з гіперпараметрами для обох класів."
   ]
  },
  {
   "cell_type": "code",
   "execution_count": 52,
   "metadata": {},
   "outputs": [],
   "source": [
    "from sklearn.neural_network import MLPClassifier\n",
    "clf = MLPClassifier(hidden_layer_sizes = (20,), max_iter = 10000, activation = 'relu', solver = 'sgd', learning_rate_init = 0.01, learning_rate = 'constant')"
   ]
  },
  {
   "cell_type": "code",
   "execution_count": 53,
   "metadata": {},
   "outputs": [
    {
     "data": {
      "text/plain": [
       "MLPClassifier(activation='relu', alpha=0.0001, batch_size='auto', beta_1=0.9,\n",
       "              beta_2=0.999, early_stopping=False, epsilon=1e-08,\n",
       "              hidden_layer_sizes=(20,), learning_rate='constant',\n",
       "              learning_rate_init=0.01, max_fun=15000, max_iter=10000,\n",
       "              momentum=0.9, n_iter_no_change=10, nesterovs_momentum=True,\n",
       "              power_t=0.5, random_state=None, shuffle=True, solver='sgd',\n",
       "              tol=0.0001, validation_fraction=0.1, verbose=False,\n",
       "              warm_start=False)"
      ]
     },
     "execution_count": 53,
     "metadata": {},
     "output_type": "execute_result"
    }
   ],
   "source": [
    "clf.fit(X_train, y_train)"
   ]
  },
  {
   "cell_type": "code",
   "execution_count": 54,
   "metadata": {},
   "outputs": [
    {
     "data": {
      "image/png": "[encoded data removed]",
      "text/plain": [
       "<Figure size 432x288 with 1 Axes>"
      ]
     },
     "metadata": {
      "needs_background": "light"
     },
     "output_type": "display_data"
    }
   ],
   "source": [
    "plot_data(X_train, y_train)\n",
    "plot_data(X_test, y_test, test=True)\n",
    "plot_surface(clf, X_train[:, 0], X_train[:, 1])"
   ]
  },
  {
   "cell_type": "code",
   "execution_count": 55,
   "metadata": {},
   "outputs": [
    {
     "data": {
      "text/plain": [
       "0.875"
      ]
     },
     "execution_count": 55,
     "metadata": {},
     "output_type": "execute_result"
    }
   ],
   "source": [
    "pred = clf.predict(X_test)\n",
    "accuracy_score(y_test, clf.predict(X_test))"
   ]
  },
  {
   "cell_type": "code",
   "execution_count": null,
   "metadata": {
    "collapsed": true
   },
   "outputs": [],
   "source": []
  }
 ],
 "metadata": {
  "anaconda-cloud": {},
  "kernelspec": {
   "display_name": "Python 3",
   "language": "python",
   "name": "python3"
  },
  "language_info": {
   "codemirror_mode": {
    "name": "ipython",
    "version": 3
   },
   "file_extension": ".py",
   "mimetype": "text/x-python",
   "name": "python",
   "nbconvert_exporter": "python",
   "pygments_lexer": "ipython3",
   "version": "3.6.3"
  }
 },
 "nbformat": 4,
 "nbformat_minor": 1
}
