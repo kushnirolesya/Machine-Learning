{
 "cells": [
  {
   "cell_type": "code",
   "execution_count": 23,
   "metadata": {},
   "outputs": [],
   "source": [
    "import numpy as np\n",
    "import pandas as pd\n",
    "import matplotlib.pyplot as plt\n",
    "%matplotlib inline"
   ]
  },
  {
   "cell_type": "code",
   "execution_count": 24,
   "metadata": {},
   "outputs": [],
   "source": [
    "def load_datasets(filename, data_columns, target_column):\n",
    "    df = pd.read_csv(filename)\n",
    "    X, y = df[data_columns], df[target_column]\n",
    "    print(\"Rows {} Columns {}\".format(df.shape[0], df.shape[1]))\n",
    "    return X, y"
   ]
  },
  {
   "cell_type": "code",
   "execution_count": 25,
   "metadata": {},
   "outputs": [],
   "source": [
    "def plot_data(A, b, test = False):\n",
    "    positive_indices = np.where(b == 1)[0]\n",
    "    negative_indices = np.where(b == 0)[0]\n",
    "    \n",
    "    plt.scatter(A.iloc[positive_indices, 0], A.iloc[positive_indices, 1], marker='x', c= 'yellow' if test else 'green')\n",
    "    plt.scatter(A.iloc[negative_indices, 0], A.iloc[negative_indices, 1], marker='+', c= 'blue' if test else 'red')\n",
    "    \n",
    "   # plt.show()"
   ]
  },
  {
   "cell_type": "code",
   "execution_count": 26,
   "metadata": {},
   "outputs": [],
   "source": [
    "def decision_boundary(X, y, mean, std, theta, ax=None, threshold=0.5, contourf=False):\n",
    "    x_values = [np.min(X[:, 1] - 5), np.max(X[:, 2] + 5)]\n",
    "    y_values = - (theta[0] + np.dot(theta[1], x_values)) / theta[2]\n",
    "\n",
    "    plt.plot(x_values, y_values, label='Decision Boundary')\n",
    "    plt.xlabel('Marks in 1st Exam')\n",
    "    plt.ylabel('Marks in 2nd Exam')\n",
    "    plt.legend()\n",
    "    plt.show()"
   ]
  },
  {
   "cell_type": "code",
   "execution_count": 27,
   "metadata": {},
   "outputs": [],
   "source": [
    "\n",
    "def normalize(X):\n",
    "    mean = np.mean(X, axis=0)\n",
    "    std = np.std(X, axis=0, ddof=1)\n",
    "    X_norm = (X - mean) / std\n",
    "    return X_norm, mean, std"
   ]
  },
  {
   "cell_type": "code",
   "execution_count": 28,
   "metadata": {},
   "outputs": [],
   "source": [
    "def prepare_X(X):\n",
    "    m = X.shape[0]\n",
    "    ones = np.ones((m, 1))\n",
    "    X_new = np.column_stack((ones, X))\n",
    "    return X_new"
   ]
  },
  {
   "cell_type": "code",
   "execution_count": 29,
   "metadata": {},
   "outputs": [],
   "source": [
    "def sigmoid(z):\n",
    "    g = 1/(1+np.exp(-z))\n",
    "    return g"
   ]
  },
  {
   "cell_type": "code",
   "execution_count": 30,
   "metadata": {},
   "outputs": [],
   "source": [
    "def h(X, theta):\n",
    "    z = np.dot(X, theta)\n",
    "    return sigmoid(z)"
   ]
  },
  {
   "cell_type": "code",
   "execution_count": 31,
   "metadata": {},
   "outputs": [],
   "source": [
    "def cost_function(X, y, theta):\n",
    "    m = X.shape[0]\n",
    "    if m ==0:\n",
    "        return None\n",
    "    \n",
    "    J = (-y * np.log(h(X, theta)) - (1 - y) * np.log(1 - h(X, theta))).mean()\n",
    "    return J"
   ]
  },
  {
   "cell_type": "code",
   "execution_count": 32,
   "metadata": {},
   "outputs": [],
   "source": [
    "def derivative_theta(X, y, theta):\n",
    "    m = X.shape[0]\n",
    "    if m == 0:\n",
    "        return None\n",
    "\n",
    "    d_theta = None\n",
    "    \n",
    "    return d_theta"
   ]
  },
  {
   "cell_type": "code",
   "execution_count": 33,
   "metadata": {},
   "outputs": [],
   "source": [
    "def gradient_descent(X, y, theta, alpha, epsilon, num_iters, print_J = True):\n",
    "    m = X.shape[0]\n",
    "    J_history = []\n",
    "    \n",
    "    J = cost_function(X, y, theta)\n",
    "    \n",
    "    if print_J == True:\n",
    "        print(J)\n",
    "    J_history.append(J)\n",
    "    for i in range(num_iters):\n",
    "        \n",
    "        #theta = theta -(1/m)*alpha*( X.T.dot((h(X, theta) - y)))\n",
    "        #theta = theta - alpha*(1/m)*(np.dot(X.T, (h(X, theta)-y.T).T))\n",
    "        #theta = theta -(1/m)*alpha*((X.T.dot(h(X, theta) - y)))\n",
    "        theta = theta - alpha*np.dot(X.T, (h(X, theta) - y))/m;\n",
    "        \n",
    "        J = cost_function(X, y, theta)\n",
    "        \n",
    "        J_history.append(J)\n",
    "        \n",
    "        if i % 1000 == 0 and print_J == True:\n",
    "            print(J)\n",
    "        \n",
    "        if abs(J-J_history[-2]) < epsilon:\n",
    "            break\n",
    "            \n",
    "    return theta, J_history"
   ]
  },
  {
   "cell_type": "code",
   "execution_count": 34,
   "metadata": {},
   "outputs": [],
   "source": [
    "def predict(X, mean, std, theta):\n",
    "    X_test_proc = prepare_X(X)\n",
    "    predictions = h(X_test_proc, theta)\n",
    "    return predictions"
   ]
  },
  {
   "cell_type": "code",
   "execution_count": 35,
   "metadata": {},
   "outputs": [
    {
     "name": "stdout",
     "output_type": "stream",
     "text": [
      "Rows 100 Columns 3\n",
      "Training set: X=(100, 2), y=(100,)\n"
     ]
    }
   ],
   "source": [
    "data_columns = [\"exam1\", \"exam2\"]\n",
    "target_column = \"submitted\"\n",
    "X, y = load_datasets('sats.csv', data_columns, target_column)\n",
    "print('Training set: X={}, y={}'.format(X.shape, y.shape))"
   ]
  },
  {
   "cell_type": "code",
   "execution_count": 36,
   "metadata": {},
   "outputs": [
    {
     "name": "stdout",
     "output_type": "stream",
     "text": [
      "Rows 118 Columns 3\n",
      "Training set: X=(100, 2), y=(100,)\n"
     ]
    }
   ],
   "source": [
    "\n",
    "# Спробувати на цьому датасеті після написання всіх функцій і відлагодження на попередньому\n",
    "data_columns = [\"test1\", \"test2\"]\n",
    "target_column = \"passed\"\n",
    "X_test, y_test = load_datasets('tests.csv', data_columns, target_column)\n",
    "print('Training set: X={}, y={}'.format(X.shape, y.shape))"
   ]
  },
  {
   "cell_type": "code",
   "execution_count": 37,
   "metadata": {},
   "outputs": [
    {
     "data": {
      "image/png": "[encoded data removed]",
      "text/plain": [
       "<Figure size 432x288 with 1 Axes>"
      ]
     },
     "metadata": {
      "needs_background": "light"
     },
     "output_type": "display_data"
    }
   ],
   "source": [
    "plot_data(X, y)"
   ]
  },
  {
   "cell_type": "code",
   "execution_count": 38,
   "metadata": {},
   "outputs": [],
   "source": [
    "X_new, mean, std = normalize(X)"
   ]
  },
  {
   "cell_type": "code",
   "execution_count": 39,
   "metadata": {},
   "outputs": [],
   "source": [
    "X_new = prepare_X(X_new)\n",
    "y_new = y.values.reshape((X.shape[0], 1))"
   ]
  },
  {
   "cell_type": "code",
   "execution_count": 40,
   "metadata": {},
   "outputs": [],
   "source": [
    "theta = np.array([0, 0, 0])"
   ]
  },
  {
   "cell_type": "code",
   "execution_count": 41,
   "metadata": {},
   "outputs": [
    {
     "data": {
      "text/plain": [
       "0.6931471805599453"
      ]
     },
     "execution_count": 41,
     "metadata": {},
     "output_type": "execute_result"
    }
   ],
   "source": [
    "cost_function(X_new, y_new, theta)"
   ]
  },
  {
   "cell_type": "code",
   "execution_count": 42,
   "metadata": {},
   "outputs": [
    {
     "name": "stdout",
     "output_type": "stream",
     "text": [
      "[0.46660748 1.28609914 1.1531973 ] 1001\n"
     ]
    }
   ],
   "source": [
    "new_theta, Js = gradient_descent(X_new, y, theta, 0.01, 1e-7, 1000, False)\n",
    "print(new_theta, len(Js))"
   ]
  },
  {
   "cell_type": "code",
   "execution_count": 43,
   "metadata": {},
   "outputs": [
    {
     "data": {
      "text/plain": [
       "0.9604684441435373"
      ]
     },
     "execution_count": 43,
     "metadata": {},
     "output_type": "execute_result"
    }
   ],
   "source": [
    "cost_function(X_new, y_new, new_theta)"
   ]
  },
  {
   "cell_type": "code",
   "execution_count": 44,
   "metadata": {},
   "outputs": [
    {
     "data": {
      "image/png": "[encoded data removed]",
      "text/plain": [
       "<Figure size 432x288 with 1 Axes>"
      ]
     },
     "metadata": {
      "needs_background": "light"
     },
     "output_type": "display_data"
    }
   ],
   "source": [
    "plot_data((X-mean)/std, y)\n",
    "X_plot = prepare_X((X-mean)/std)\n",
    "decision_boundary(X_plot, y, mean, std, new_theta, ax=None, threshold=0.5, contourf=False)\n",
    "#plt.plot(h(X_new, new_theta))\n",
    "#plt.show()"
   ]
  },
  {
   "cell_type": "code",
   "execution_count": 45,
   "metadata": {},
   "outputs": [
    {
     "name": "stdout",
     "output_type": "stream",
     "text": [
      "[1. 1.]\n",
      "[0.29916665 0.0371148  0.25194356 0.79447815 0.8718743  0.18136951\n",
      " 0.88558055 0.46656786 0.92223645 0.57455266 0.67402142 0.24517352\n",
      " 0.90066598 0.93505733 0.34303592 0.75426128 0.46416518 0.35571426\n",
      " 0.92096073 0.5146568  0.29518845 0.88378974 0.16662211 0.04847804\n",
      " 0.80983325 0.61663195 0.52497321 0.64119681 0.31512113 0.20025266\n",
      " 0.64414811 0.76916506 0.34975691 0.44202249 0.28786337 0.24409585\n",
      " 0.59760432 0.78262063 0.38732372 0.25859103 0.74233728 0.1588388\n",
      " 0.91129635 0.49578002 0.14627998 0.34562228 0.81650038 0.97941942\n",
      " 0.89342566 0.97273587 0.87041266 0.9141315  0.66723142 0.12435828\n",
      " 0.17260246 0.27037865 0.93966184 0.52599031 0.77883426 0.83648402\n",
      " 0.91081263 0.06113887 0.13857743 0.05130108 0.28788956 0.26263809\n",
      " 0.67810845 0.17967767 0.95438581 0.55351347 0.04183123 0.74902234\n",
      " 0.94112501 0.63421234 0.64906947 0.95719972 0.65312145 0.51446392\n",
      " 0.20620668 0.52601377 0.90263917 0.75436965 0.64568222 0.37631364\n",
      " 0.95142624 0.86476812 0.42364031 0.93204252 0.9613348  0.32069452\n",
      " 0.95372409 0.96853952 0.10839918 0.90088966 0.68383921 0.63154817\n",
      " 0.55403765 0.94534691 0.42689908 0.92529638]\n"
     ]
    }
   ],
   "source": [
    "T = np.array([[40, 40], [60, 65]])\n",
    "print(predict(T, mean, std, new_theta))\n",
    "print(h(X_new, new_theta));"
   ]
  },
  {
   "cell_type": "code",
   "execution_count": null,
   "metadata": {},
   "outputs": [],
   "source": []
  }
 ],
 "metadata": {
  "kernelspec": {
   "display_name": "Python 3",
   "language": "python",
   "name": "python3"
  },
  "language_info": {
   "codemirror_mode": {
    "name": "ipython",
    "version": 3
   },
   "file_extension": ".py",
   "mimetype": "text/x-python",
   "name": "python",
   "nbconvert_exporter": "python",
   "pygments_lexer": "ipython3",
   "version": "3.6.3"
  }
 },
 "nbformat": 4,
 "nbformat_minor": 4
}
